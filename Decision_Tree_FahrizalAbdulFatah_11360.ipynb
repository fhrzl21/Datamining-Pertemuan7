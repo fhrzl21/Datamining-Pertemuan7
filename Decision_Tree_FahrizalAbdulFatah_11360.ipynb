{
  "nbformat": 4,
  "nbformat_minor": 0,
  "metadata": {
    "colab": {
      "name": "Decision_Tree_FahrizalAbdulFatah_11360.ipynb",
      "provenance": [],
      "collapsed_sections": []
    },
    "kernelspec": {
      "name": "python3",
      "display_name": "Python 3"
    },
    "language_info": {
      "name": "python"
    }
  },
  "cells": [
    {
      "cell_type": "code",
      "metadata": {
        "id": "AuMiwQ5kkEqz"
      },
      "source": [
        "#Import library numpy, pandas dan sclikit-learn\n",
        "import numpy as np\n",
        "import pandas as pd\n",
        "from sklearn import tree"
      ],
      "execution_count": 222,
      "outputs": []
    },
    {
      "cell_type": "code",
      "metadata": {
        "id": "eduIEFLeleal"
      },
      "source": [
        "#Membaca dataset dari file ke pandas dataFrame\n",
        "irisDataset = pd.read_csv('testing.csv', delimiter=';', header=0)"
      ],
      "execution_count": 223,
      "outputs": []
    },
    {
      "cell_type": "code",
      "metadata": {
        "colab": {
          "base_uri": "https://localhost:8080/",
          "height": 204
        },
        "id": "Q6yeUnZ7nqUc",
        "outputId": "fb157a6a-f4a6-4539-b53c-9bce40f339ee"
      },
      "source": [
        "irisDataset.head()"
      ],
      "execution_count": 224,
      "outputs": [
        {
          "output_type": "execute_result",
          "data": {
            "text/html": [
              "<div>\n",
              "<style scoped>\n",
              "    .dataframe tbody tr th:only-of-type {\n",
              "        vertical-align: middle;\n",
              "    }\n",
              "\n",
              "    .dataframe tbody tr th {\n",
              "        vertical-align: top;\n",
              "    }\n",
              "\n",
              "    .dataframe thead th {\n",
              "        text-align: right;\n",
              "    }\n",
              "</style>\n",
              "<table border=\"1\" class=\"dataframe\">\n",
              "  <thead>\n",
              "    <tr style=\"text-align: right;\">\n",
              "      <th></th>\n",
              "      <th>Id</th>\n",
              "      <th>Car</th>\n",
              "      <th>MPG</th>\n",
              "      <th>Cylinders</th>\n",
              "      <th>Displacement</th>\n",
              "      <th>Horsepower</th>\n",
              "      <th>Weight</th>\n",
              "      <th>Acceleration</th>\n",
              "      <th>Model</th>\n",
              "      <th>Origin</th>\n",
              "    </tr>\n",
              "  </thead>\n",
              "  <tbody>\n",
              "    <tr>\n",
              "      <th>0</th>\n",
              "      <td>1</td>\n",
              "      <td>Chevrolet Chevelle Malibu</td>\n",
              "      <td>18.00</td>\n",
              "      <td>8</td>\n",
              "      <td>307.00.00</td>\n",
              "      <td>130.00.00</td>\n",
              "      <td>3504.00.00</td>\n",
              "      <td>12.00</td>\n",
              "      <td>70</td>\n",
              "      <td>US</td>\n",
              "    </tr>\n",
              "    <tr>\n",
              "      <th>1</th>\n",
              "      <td>2</td>\n",
              "      <td>Buick Skylark 320</td>\n",
              "      <td>15.00</td>\n",
              "      <td>8</td>\n",
              "      <td>350.00.00</td>\n",
              "      <td>165.00.00</td>\n",
              "      <td>3693.00.00</td>\n",
              "      <td>11.05</td>\n",
              "      <td>70</td>\n",
              "      <td>US</td>\n",
              "    </tr>\n",
              "    <tr>\n",
              "      <th>2</th>\n",
              "      <td>3</td>\n",
              "      <td>Plymouth Satellite</td>\n",
              "      <td>18.00</td>\n",
              "      <td>8</td>\n",
              "      <td>318.00.00</td>\n",
              "      <td>150.00.00</td>\n",
              "      <td>3436.00.00</td>\n",
              "      <td>11.00</td>\n",
              "      <td>70</td>\n",
              "      <td>US</td>\n",
              "    </tr>\n",
              "    <tr>\n",
              "      <th>3</th>\n",
              "      <td>4</td>\n",
              "      <td>AMC Rebel SST</td>\n",
              "      <td>16.00</td>\n",
              "      <td>8</td>\n",
              "      <td>304.00.00</td>\n",
              "      <td>150.00.00</td>\n",
              "      <td>3433.00.00</td>\n",
              "      <td>12.00</td>\n",
              "      <td>70</td>\n",
              "      <td>US</td>\n",
              "    </tr>\n",
              "    <tr>\n",
              "      <th>4</th>\n",
              "      <td>5</td>\n",
              "      <td>Ford Torino</td>\n",
              "      <td>17.00</td>\n",
              "      <td>8</td>\n",
              "      <td>302.00.00</td>\n",
              "      <td>140.00.00</td>\n",
              "      <td>3449.00.00</td>\n",
              "      <td>10.05</td>\n",
              "      <td>70</td>\n",
              "      <td>US</td>\n",
              "    </tr>\n",
              "  </tbody>\n",
              "</table>\n",
              "</div>"
            ],
            "text/plain": [
              "   Id                        Car    MPG  ...  Acceleration Model Origin\n",
              "0   1  Chevrolet Chevelle Malibu  18.00  ...         12.00    70     US\n",
              "1   2          Buick Skylark 320  15.00  ...         11.05    70     US\n",
              "2   3         Plymouth Satellite  18.00  ...         11.00    70     US\n",
              "3   4              AMC Rebel SST  16.00  ...         12.00    70     US\n",
              "4   5                Ford Torino  17.00  ...         10.05    70     US\n",
              "\n",
              "[5 rows x 10 columns]"
            ]
          },
          "metadata": {
            "tags": []
          },
          "execution_count": 224
        }
      ]
    },
    {
      "cell_type": "code",
      "metadata": {
        "id": "uNoxfXJol3U-"
      },
      "source": [
        "#mengubah kelas (kolom \"species\") dari string ke unique-integer\n",
        "irisDataset[\"Origin\"] = pd.factorize(irisDataset.Origin)[0]"
      ],
      "execution_count": 225,
      "outputs": []
    },
    {
      "cell_type": "code",
      "metadata": {
        "colab": {
          "base_uri": "https://localhost:8080/",
          "height": 204
        },
        "id": "QCcJxhK8pL_f",
        "outputId": "dbded6c5-1240-4a22-c154-53552075e306"
      },
      "source": [
        "irisDataset.head()"
      ],
      "execution_count": 226,
      "outputs": [
        {
          "output_type": "execute_result",
          "data": {
            "text/html": [
              "<div>\n",
              "<style scoped>\n",
              "    .dataframe tbody tr th:only-of-type {\n",
              "        vertical-align: middle;\n",
              "    }\n",
              "\n",
              "    .dataframe tbody tr th {\n",
              "        vertical-align: top;\n",
              "    }\n",
              "\n",
              "    .dataframe thead th {\n",
              "        text-align: right;\n",
              "    }\n",
              "</style>\n",
              "<table border=\"1\" class=\"dataframe\">\n",
              "  <thead>\n",
              "    <tr style=\"text-align: right;\">\n",
              "      <th></th>\n",
              "      <th>Id</th>\n",
              "      <th>Car</th>\n",
              "      <th>MPG</th>\n",
              "      <th>Cylinders</th>\n",
              "      <th>Displacement</th>\n",
              "      <th>Horsepower</th>\n",
              "      <th>Weight</th>\n",
              "      <th>Acceleration</th>\n",
              "      <th>Model</th>\n",
              "      <th>Origin</th>\n",
              "    </tr>\n",
              "  </thead>\n",
              "  <tbody>\n",
              "    <tr>\n",
              "      <th>0</th>\n",
              "      <td>1</td>\n",
              "      <td>Chevrolet Chevelle Malibu</td>\n",
              "      <td>18.00</td>\n",
              "      <td>8</td>\n",
              "      <td>307.00.00</td>\n",
              "      <td>130.00.00</td>\n",
              "      <td>3504.00.00</td>\n",
              "      <td>12.00</td>\n",
              "      <td>70</td>\n",
              "      <td>0</td>\n",
              "    </tr>\n",
              "    <tr>\n",
              "      <th>1</th>\n",
              "      <td>2</td>\n",
              "      <td>Buick Skylark 320</td>\n",
              "      <td>15.00</td>\n",
              "      <td>8</td>\n",
              "      <td>350.00.00</td>\n",
              "      <td>165.00.00</td>\n",
              "      <td>3693.00.00</td>\n",
              "      <td>11.05</td>\n",
              "      <td>70</td>\n",
              "      <td>0</td>\n",
              "    </tr>\n",
              "    <tr>\n",
              "      <th>2</th>\n",
              "      <td>3</td>\n",
              "      <td>Plymouth Satellite</td>\n",
              "      <td>18.00</td>\n",
              "      <td>8</td>\n",
              "      <td>318.00.00</td>\n",
              "      <td>150.00.00</td>\n",
              "      <td>3436.00.00</td>\n",
              "      <td>11.00</td>\n",
              "      <td>70</td>\n",
              "      <td>0</td>\n",
              "    </tr>\n",
              "    <tr>\n",
              "      <th>3</th>\n",
              "      <td>4</td>\n",
              "      <td>AMC Rebel SST</td>\n",
              "      <td>16.00</td>\n",
              "      <td>8</td>\n",
              "      <td>304.00.00</td>\n",
              "      <td>150.00.00</td>\n",
              "      <td>3433.00.00</td>\n",
              "      <td>12.00</td>\n",
              "      <td>70</td>\n",
              "      <td>0</td>\n",
              "    </tr>\n",
              "    <tr>\n",
              "      <th>4</th>\n",
              "      <td>5</td>\n",
              "      <td>Ford Torino</td>\n",
              "      <td>17.00</td>\n",
              "      <td>8</td>\n",
              "      <td>302.00.00</td>\n",
              "      <td>140.00.00</td>\n",
              "      <td>3449.00.00</td>\n",
              "      <td>10.05</td>\n",
              "      <td>70</td>\n",
              "      <td>0</td>\n",
              "    </tr>\n",
              "  </tbody>\n",
              "</table>\n",
              "</div>"
            ],
            "text/plain": [
              "   Id                        Car    MPG  ...  Acceleration Model Origin\n",
              "0   1  Chevrolet Chevelle Malibu  18.00  ...         12.00    70      0\n",
              "1   2          Buick Skylark 320  15.00  ...         11.05    70      0\n",
              "2   3         Plymouth Satellite  18.00  ...         11.00    70      0\n",
              "3   4              AMC Rebel SST  16.00  ...         12.00    70      0\n",
              "4   5                Ford Torino  17.00  ...         10.05    70      0\n",
              "\n",
              "[5 rows x 10 columns]"
            ]
          },
          "metadata": {
            "tags": []
          },
          "execution_count": 226
        }
      ]
    },
    {
      "cell_type": "code",
      "metadata": {
        "colab": {
          "base_uri": "https://localhost:8080/"
        },
        "id": "oS2Z-QiNpX-A",
        "outputId": "ef5b5a91-59ef-4699-e088-e77089e054eb"
      },
      "source": [
        "print(irisDataset)"
      ],
      "execution_count": 227,
      "outputs": [
        {
          "output_type": "stream",
          "text": [
            "     Id                        Car    MPG  ...  Acceleration Model Origin\n",
            "0     1  Chevrolet Chevelle Malibu  18.00  ...         12.00    70      0\n",
            "1     2          Buick Skylark 320  15.00  ...         11.05    70      0\n",
            "2     3         Plymouth Satellite  18.00  ...         11.00    70      0\n",
            "3     4              AMC Rebel SST  16.00  ...         12.00    70      0\n",
            "4     5                Ford Torino  17.00  ...         10.05    70      0\n",
            "..  ...                        ...    ...  ...           ...   ...    ...\n",
            "95   96           Ford Gran Torino  14.00  ...         14.05    73      0\n",
            "96   97       Dodge Coronet Custom  15.00  ...         12.05    73      0\n",
            "97   98   Mercury Marquis Brougham  12.00  ...         11.05    73      0\n",
            "98   99  Chevrolet Caprice Classic  13.00  ...         12.00    73      0\n",
            "99  100                   Ford LTD  13.00  ...         13.00    73      0\n",
            "\n",
            "[100 rows x 10 columns]\n"
          ],
          "name": "stdout"
        }
      ]
    },
    {
      "cell_type": "code",
      "metadata": {
        "id": "GaBa5i2DmSgO"
      },
      "source": [
        "#menghapus kolom \"id\"\n",
        "irisDataset = irisDataset.drop(labels=\"Id\", axis=1)"
      ],
      "execution_count": 228,
      "outputs": []
    },
    {
      "cell_type": "code",
      "metadata": {
        "id": "SUIAkyeRpwHs",
        "colab": {
          "base_uri": "https://localhost:8080/"
        },
        "outputId": "08ffd557-cfc7-4687-d57d-979d4fb03f08"
      },
      "source": [
        "print(irisDataset)"
      ],
      "execution_count": 229,
      "outputs": [
        {
          "output_type": "stream",
          "text": [
            "                          Car    MPG  Cylinders  ... Acceleration Model Origin\n",
            "0   Chevrolet Chevelle Malibu  18.00          8  ...        12.00    70      0\n",
            "1           Buick Skylark 320  15.00          8  ...        11.05    70      0\n",
            "2          Plymouth Satellite  18.00          8  ...        11.00    70      0\n",
            "3               AMC Rebel SST  16.00          8  ...        12.00    70      0\n",
            "4                 Ford Torino  17.00          8  ...        10.05    70      0\n",
            "..                        ...    ...        ...  ...          ...   ...    ...\n",
            "95           Ford Gran Torino  14.00          8  ...        14.05    73      0\n",
            "96       Dodge Coronet Custom  15.00          8  ...        12.05    73      0\n",
            "97   Mercury Marquis Brougham  12.00          8  ...        11.05    73      0\n",
            "98  Chevrolet Caprice Classic  13.00          8  ...        12.00    73      0\n",
            "99                   Ford LTD  13.00          8  ...        13.00    73      0\n",
            "\n",
            "[100 rows x 9 columns]\n"
          ],
          "name": "stdout"
        }
      ]
    },
    {
      "cell_type": "code",
      "metadata": {
        "id": "2viHPPkfmsw7"
      },
      "source": [
        "#mengubah dataframe ke array numpy\n",
        "irisDataset = irisDataset.to_numpy()"
      ],
      "execution_count": 230,
      "outputs": []
    },
    {
      "cell_type": "code",
      "metadata": {
        "id": "ENL31ONip8Cl",
        "colab": {
          "base_uri": "https://localhost:8080/"
        },
        "outputId": "efab14f8-b582-4180-db61-397aac46bc81"
      },
      "source": [
        "print(irisDataset)"
      ],
      "execution_count": 231,
      "outputs": [
        {
          "output_type": "stream",
          "text": [
            "[['Chevrolet Chevelle Malibu' '18.00' 8 '307.00.00' '130.00.00'\n",
            "  '3504.00.00' 12.0 70 0]\n",
            " ['Buick Skylark 320' '15.00' 8 '350.00.00' '165.00.00' '3693.00.00'\n",
            "  11.05 70 0]\n",
            " ['Plymouth Satellite' '18.00' 8 '318.00.00' '150.00.00' '3436.00.00'\n",
            "  11.0 70 0]\n",
            " ['AMC Rebel SST' '16.00' 8 '304.00.00' '150.00.00' '3433.00.00' 12.0 70\n",
            "  0]\n",
            " ['Ford Torino' '17.00' 8 '302.00.00' '140.00.00' '3449.00.00' 10.05 70 0]\n",
            " ['Ford Galaxie 500' '15.00' 8 '429.00.00' '198.00.00' '4341.00.00' 10.0\n",
            "  70 0]\n",
            " ['Chevrolet Impala' '14.00' 8 '454.00.00' '220.00.00' '4354.00.00' 9.0\n",
            "  70 0]\n",
            " ['Plymouth Fury iii' '14.00' 8 '440.00.00' '215.00.00' '4312.00.00' 8.05\n",
            "  70 0]\n",
            " ['Pontiac Catalina' '14.00' 8 '455.00.00' '225.00.00' '4425.00.00' 10.0\n",
            "  70 0]\n",
            " ['AMC Ambassador DPL' '15.00' 8 '390.00.00' '190.00.00' '3850.00.00'\n",
            "  8.05 70 0]\n",
            " ['Citroen DS-21 Pallas' '16.00' 4 '133.00.00' '115.00.00' '3090.00.00'\n",
            "  17.05 70 1]\n",
            " ['Chevrolet Chevelle Concours (sw)' '17.00' 8 '350.00.00' '165.00.00'\n",
            "  '4142.00.00' 11.05 70 0]\n",
            " ['Ford Torino (sw)' '18.00' 8 '351.00.00' '153.00.00' '4034.00.00' 11.0\n",
            "  70 0]\n",
            " ['Plymouth Satellite (sw)' '19.00' 8 '383.00.00' '175.00.00'\n",
            "  '4166.00.00' 10.05 70 0]\n",
            " ['AMC Rebel SST (sw)' '20.00' 8 '360.00.00' '175.00.00' '3850.00.00'\n",
            "  11.0 70 0]\n",
            " ['Dodge Challenger SE' '15.00' 8 '383.00.00' '170.00.00' '3563.00.00'\n",
            "  10.0 70 0]\n",
            " [\"Plymouth 'Cuda 340\" '14.00' 8 '340.00.00' '160.00.00' '3609.00.00' 8.0\n",
            "  70 0]\n",
            " ['Ford Mustang Boss 302' '15.00' 8 '302.00.00' '140.00.00' '3353.00.00'\n",
            "  8.0 70 0]\n",
            " ['Chevrolet Monte Carlo' '15.00' 8 '400.00.00' '150.00.00' '3761.00.00'\n",
            "  9.05 70 0]\n",
            " ['Buick Estate Wagon (sw)' '14.00' 8 '455.00.00' '225.00.00'\n",
            "  '3086.00.00' 10.0 70 0]\n",
            " ['Toyota Corolla Mark ii' '24.00.00' 4 '113.00.00' '95.00.00'\n",
            "  '2372.00.00' 15.0 70 2]\n",
            " ['Plymouth Duster' '22.00' 6 '198.00.00' '95.00.00' '2833.00.00' 15.05\n",
            "  70 0]\n",
            " ['AMC Hornet' '18.00' 6 '199.00.00' '97.00.00' '2774.00.00' 15.05 70 0]\n",
            " ['Ford Maverick' '21.00' 6 '200.00.00' '85.00.00' '2587.00.00' 16.0 70 0]\n",
            " ['Datsun PL510' '27.00.00' 4 '97.00.00' '88.00.00' '2130.00.00' 14.05 70\n",
            "  2]\n",
            " ['Volkswagen 1131 Deluxe Sedan' '26.00.00' 4 '97.00.00' '46.00.00'\n",
            "  '1835.00.00' 20.05 70 1]\n",
            " ['Peugeot 504' '25.00.00' 4 '110.00.00' '87.00.00' '2672.00.00' 17.05 70\n",
            "  1]\n",
            " ['Audi 100 LS' '24.00.00' 4 '107.00.00' '90.00.00' '2430.00.00' 14.05 70\n",
            "  1]\n",
            " ['Saab 99e' '25.00.00' 4 '104.00.00' '95.00.00' '2375.00.00' 17.05 70 1]\n",
            " ['BMW 2002' '26.00.00' 4 '121.00.00' '113.00.00' '2234.00.00' 12.05 70 1]\n",
            " ['AMC Gremlin' '21.00' 6 '199.00.00' '90.00.00' '2648.00.00' 15.0 70 0]\n",
            " ['Ford F250' '10.00' 8 '360.00.00' '215.00.00' '4615.00.00' 14.0 70 0]\n",
            " ['Chevy C20' '10.00' 8 '307.00.00' '200.00.00' '4376.00.00' 15.0 70 0]\n",
            " ['Dodge D200' '11.00' 8 '318.00.00' '210.00.00' '4382.00.00' 13.05 70 0]\n",
            " ['Hi 1200D' '09.00' 8 '304.00.00' '193.00.00' '4732.00.00' 18.05 70 0]\n",
            " ['Datsun PL510' '27.00.00' 4 '97.00.00' '88.00.00' '2130.00.00' 14.05 71\n",
            "  2]\n",
            " ['Chevrolet Vega 2300' '28.00.00' 4 '140.00.00' '90.00.00' '2264.00.00'\n",
            "  15.05 71 0]\n",
            " ['Toyota Corolla' '25.00.00' 4 '113.00.00' '95.00.00' '2228.00.00' 14.0\n",
            "  71 2]\n",
            " ['Ford Pinto' '25.00.00' 4 '98.00.00' '96.00.00' '2046.00.00' 19.0 71 0]\n",
            " ['Volkswagen Super Beetle 117' '26.00.00' 4 '97.00.00' '48.00.00'\n",
            "  '1978.00.00' 20.0 71 1]\n",
            " ['AMC Gremlin' '19.00' 6 '232.00.00' '100.00.00' '2634.00.00' 13.0 71 0]\n",
            " ['Plymouth Satellite Custom' '16.00' 6 '225.00.00' '105.00.00'\n",
            "  '3439.00.00' 15.05 71 0]\n",
            " ['Chevrolet Chevelle Malibu' '17.00' 6 '250.00.00' '100.00.00'\n",
            "  '3329.00.00' 15.05 71 0]\n",
            " ['Ford Torino 500' '19.00' 6 '250.00.00' '88.00.00' '3302.00.00' 15.05\n",
            "  71 0]\n",
            " ['AMC Matador' '18.00' 6 '232.00.00' '100.00.00' '3288.00.00' 15.05 71 0]\n",
            " ['Chevrolet Impala' '14.00' 8 '350.00.00' '165.00.00' '4209.00.00' 12.0\n",
            "  71 0]\n",
            " ['Pontiac Catalina Brougham' '14.00' 8 '400.00.00' '175.00.00'\n",
            "  '4464.00.00' 11.05 71 0]\n",
            " ['Ford Galaxie 500' '14.00' 8 '351.00.00' '153.00.00' '4154.00.00' 13.05\n",
            "  71 0]\n",
            " ['Plymouth Fury iii' '14.00' 8 '318.00.00' '150.00.00' '4096.00.00' 13.0\n",
            "  71 0]\n",
            " ['Dodge Monaco (sw)' '12.00' 8 '383.00.00' '180.00.00' '4955.00.00'\n",
            "  11.05 71 0]\n",
            " ['Ford Country Squire (sw)' '13.00' 8 '400.00.00' '170.00.00'\n",
            "  '4746.00.00' 12.0 71 0]\n",
            " ['Pontiac Safari (sw)' '13.00' 8 '400.00.00' '175.00.00' '5140.00.00'\n",
            "  12.0 71 0]\n",
            " ['AMC Hornet Sportabout (sw)' '18.00' 6 '258.00.00' '110.00.00'\n",
            "  '2962.00.00' 13.05 71 0]\n",
            " ['Chevrolet Vega (sw)' '22.00' 4 '140.00.00' '72.00.00' '2408.00.00'\n",
            "  19.0 71 0]\n",
            " ['Pontiac Firebird' '19.00' 6 '250.00.00' '100.00.00' '3282.00.00' 15.0\n",
            "  71 0]\n",
            " ['Ford Mustang' '18.00' 6 '250.00.00' '88.00.00' '3139.00.00' 14.05 71 0]\n",
            " ['Mercury Capri 2000' '23.00' 4 '122.00.00' '86.00.00' '2220.00.00' 14.0\n",
            "  71 0]\n",
            " ['Opel 1900' '28.00.00' 4 '116.00.00' '90.00.00' '2123.00.00' 14.0 71 1]\n",
            " ['Peugeot 304' '30.00.00' 4 '79.00.00' '70.00.00' '2074.00.00' 19.05 71\n",
            "  1]\n",
            " ['Fiat 124B' '30.00.00' 4 '88.00.00' '76.00.00' '2065.00.00' 14.05 71 1]\n",
            " ['Toyota Corolla 1200' '31.00.00' 4 '71.00.00' '65.00.00' '1773.00.00'\n",
            "  19.0 71 2]\n",
            " ['Datsun 1200' '35.00.00' 4 '72.00.00' '69.00.00' '1613.00.00' 18.0 71 2]\n",
            " ['Volkswagen Model 111' '27.00.00' 4 '97.00.00' '60.00.00' '1834.00.00'\n",
            "  19.0 71 1]\n",
            " ['Plymouth Cricket' '26.00.00' 4 '91.00.00' '70.00.00' '1955.00.00'\n",
            "  20.05 71 0]\n",
            " ['Toyota Corolla Hardtop' '24.00.00' 4 '113.00.00' '95.00.00'\n",
            "  '2278.00.00' 15.05 72 2]\n",
            " ['Dodge Colt Hardtop' '25.00.00' 4 '97.50.00' '80.00.00' '2126.00.00'\n",
            "  17.0 72 0]\n",
            " ['Volkswagen Type 3' '23.00' 4 '97.00.00' '54.00.00' '2254.00.00' 23.05\n",
            "  72 1]\n",
            " ['Chevrolet Vega' '20.00' 4 '140.00.00' '90.00.00' '2408.00.00' 19.05 72\n",
            "  0]\n",
            " ['Ford Pinto Runabout' '21.00' 4 '122.00.00' '86.00.00' '2226.00.00'\n",
            "  16.05 72 0]\n",
            " ['Chevrolet Impala' '13.00' 8 '350.00.00' '165.00.00' '4274.00.00' 12.0\n",
            "  72 0]\n",
            " ['Pontiac Catalina' '14.00' 8 '400.00.00' '175.00.00' '4385.00.00' 12.0\n",
            "  72 0]\n",
            " ['Plymouth Fury III' '15.00' 8 '318.00.00' '150.00.00' '4135.00.00'\n",
            "  13.05 72 0]\n",
            " ['Ford Galaxie 500' '14.00' 8 '351.00.00' '153.00.00' '4129.00.00' 13.0\n",
            "  72 0]\n",
            " ['AMC Ambassador SST' '17.00' 8 '304.00.00' '150.00.00' '3672.00.00'\n",
            "  11.05 72 0]\n",
            " ['Mercury Marquis' '11.00' 8 '429.00.00' '208.00.00' '4633.00.00' 11.0\n",
            "  72 0]\n",
            " ['Buick LeSabre Custom' '13.00' 8 '350.00.00' '155.00.00' '4502.00.00'\n",
            "  13.05 72 0]\n",
            " ['Oldsmobile Delta 88 Royale' '12.00' 8 '350.00.00' '160.00.00'\n",
            "  '4456.00.00' 13.05 72 0]\n",
            " ['Chrysler Newport Royal' '13.00' 8 '400.00.00' '190.00.00' '4422.00.00'\n",
            "  12.05 72 0]\n",
            " ['Mazda RX2 Coupe' '19.00' 3 '70.00.00' '97.00.00' '2330.00.00' 13.05 72\n",
            "  2]\n",
            " ['AMC Matador (sw)' '15.00' 8 '304.00.00' '150.00.00' '3892.00.00' 12.05\n",
            "  72 0]\n",
            " ['Chevrolet Chevelle Concours (sw)' '13.00' 8 '307.00.00' '130.00.00'\n",
            "  '4098.00.00' 14.0 72 0]\n",
            " ['Ford Gran Torino (sw)' '13.00' 8 '302.00.00' '140.00.00' '4294.00.00'\n",
            "  16.0 72 0]\n",
            " ['Plymouth Satellite Custom (sw)' '14.00' 8 '318.00.00' '150.00.00'\n",
            "  '4077.00.00' 14.0 72 0]\n",
            " ['Volvo 145e (sw)' '18.00' 4 '121.00.00' '112.00.00' '2933.00.00' 14.05\n",
            "  72 1]\n",
            " ['Volkswagen 411 (sw)' '22.00' 4 '121.00.00' '76.00.00' '2511.00.00'\n",
            "  18.0 72 1]\n",
            " ['Peugeot 504 (sw)' '21.00' 4 '120.00.00' '87.00.00' '2979.00.00' 19.05\n",
            "  72 1]\n",
            " ['Renault 12 (sw)' '26.00.00' 4 '96.00.00' '69.00.00' '2189.00.00' 18.0\n",
            "  72 1]\n",
            " ['Ford Pinto (sw)' '22.00' 4 '122.00.00' '86.00.00' '2395.00.00' 16.0 72\n",
            "  0]\n",
            " ['Datsun 510 (sw)' '28.00.00' 4 '97.00.00' '92.00.00' '2288.00.00' 17.0\n",
            "  72 2]\n",
            " ['Toyota Corolla Mark II (sw)' '23.00' 4 '120.00.00' '97.00.00'\n",
            "  '2506.00.00' 14.05 72 2]\n",
            " ['Dodge Colt (sw)' '28.00.00' 4 '98.00.00' '80.00.00' '2164.00.00' 15.0\n",
            "  72 0]\n",
            " ['Toyota Corolla 1600 (sw)' '27.00.00' 4 '97.00.00' '88.00.00'\n",
            "  '2100.00.00' 16.05 72 2]\n",
            " ['Buick Century 350' '13.00' 8 '350.00.00' '175.00.00' '4100.00.00' 13.0\n",
            "  73 0]\n",
            " ['AMC Matador' '14.00' 8 '304.00.00' '150.00.00' '3672.00.00' 11.05 73 0]\n",
            " ['Chevrolet Malibu' '13.00' 8 '350.00.00' '145.00.00' '3988.00.00' 13.0\n",
            "  73 0]\n",
            " ['Ford Gran Torino' '14.00' 8 '302.00.00' '137.00.00' '4042.00.00' 14.05\n",
            "  73 0]\n",
            " ['Dodge Coronet Custom' '15.00' 8 '318.00.00' '150.00.00' '3777.00.00'\n",
            "  12.05 73 0]\n",
            " ['Mercury Marquis Brougham' '12.00' 8 '429.00.00' '198.00.00'\n",
            "  '4952.00.00' 11.05 73 0]\n",
            " ['Chevrolet Caprice Classic' '13.00' 8 '400.00.00' '150.00.00'\n",
            "  '4464.00.00' 12.0 73 0]\n",
            " ['Ford LTD' '13.00' 8 '351.00.00' '158.00.00' '4363.00.00' 13.0 73 0]]\n"
          ],
          "name": "stdout"
        }
      ]
    },
    {
      "cell_type": "code",
      "metadata": {
        "id": "exUNUM3Ym9uj"
      },
      "source": [
        "#membagi dataset => 80 baris data untuk training dan 20 baris data untuk testing\n",
        "dataTraining = np.concatenate((irisDataset[0:40, :], irisDataset[50:90, :]), axis=0)\n",
        "dataTesting = np.concatenate((irisDataset[40:50, :], irisDataset[90:100, :]), axis=0)                              "
      ],
      "execution_count": 232,
      "outputs": []
    },
    {
      "cell_type": "code",
      "metadata": {
        "id": "ZJmMa4Y1rMzQ",
        "colab": {
          "base_uri": "https://localhost:8080/"
        },
        "outputId": "285e3612-b7ea-4636-e8b9-bed5e3eafea3"
      },
      "source": [
        "print(dataTraining)\n",
        "len(dataTraining)"
      ],
      "execution_count": 233,
      "outputs": [
        {
          "output_type": "stream",
          "text": [
            "[['Chevrolet Chevelle Malibu' '18.00' 8 '307.00.00' '130.00.00'\n",
            "  '3504.00.00' 12.0 70 0]\n",
            " ['Buick Skylark 320' '15.00' 8 '350.00.00' '165.00.00' '3693.00.00'\n",
            "  11.05 70 0]\n",
            " ['Plymouth Satellite' '18.00' 8 '318.00.00' '150.00.00' '3436.00.00'\n",
            "  11.0 70 0]\n",
            " ['AMC Rebel SST' '16.00' 8 '304.00.00' '150.00.00' '3433.00.00' 12.0 70\n",
            "  0]\n",
            " ['Ford Torino' '17.00' 8 '302.00.00' '140.00.00' '3449.00.00' 10.05 70 0]\n",
            " ['Ford Galaxie 500' '15.00' 8 '429.00.00' '198.00.00' '4341.00.00' 10.0\n",
            "  70 0]\n",
            " ['Chevrolet Impala' '14.00' 8 '454.00.00' '220.00.00' '4354.00.00' 9.0\n",
            "  70 0]\n",
            " ['Plymouth Fury iii' '14.00' 8 '440.00.00' '215.00.00' '4312.00.00' 8.05\n",
            "  70 0]\n",
            " ['Pontiac Catalina' '14.00' 8 '455.00.00' '225.00.00' '4425.00.00' 10.0\n",
            "  70 0]\n",
            " ['AMC Ambassador DPL' '15.00' 8 '390.00.00' '190.00.00' '3850.00.00'\n",
            "  8.05 70 0]\n",
            " ['Citroen DS-21 Pallas' '16.00' 4 '133.00.00' '115.00.00' '3090.00.00'\n",
            "  17.05 70 1]\n",
            " ['Chevrolet Chevelle Concours (sw)' '17.00' 8 '350.00.00' '165.00.00'\n",
            "  '4142.00.00' 11.05 70 0]\n",
            " ['Ford Torino (sw)' '18.00' 8 '351.00.00' '153.00.00' '4034.00.00' 11.0\n",
            "  70 0]\n",
            " ['Plymouth Satellite (sw)' '19.00' 8 '383.00.00' '175.00.00'\n",
            "  '4166.00.00' 10.05 70 0]\n",
            " ['AMC Rebel SST (sw)' '20.00' 8 '360.00.00' '175.00.00' '3850.00.00'\n",
            "  11.0 70 0]\n",
            " ['Dodge Challenger SE' '15.00' 8 '383.00.00' '170.00.00' '3563.00.00'\n",
            "  10.0 70 0]\n",
            " [\"Plymouth 'Cuda 340\" '14.00' 8 '340.00.00' '160.00.00' '3609.00.00' 8.0\n",
            "  70 0]\n",
            " ['Ford Mustang Boss 302' '15.00' 8 '302.00.00' '140.00.00' '3353.00.00'\n",
            "  8.0 70 0]\n",
            " ['Chevrolet Monte Carlo' '15.00' 8 '400.00.00' '150.00.00' '3761.00.00'\n",
            "  9.05 70 0]\n",
            " ['Buick Estate Wagon (sw)' '14.00' 8 '455.00.00' '225.00.00'\n",
            "  '3086.00.00' 10.0 70 0]\n",
            " ['Toyota Corolla Mark ii' '24.00.00' 4 '113.00.00' '95.00.00'\n",
            "  '2372.00.00' 15.0 70 2]\n",
            " ['Plymouth Duster' '22.00' 6 '198.00.00' '95.00.00' '2833.00.00' 15.05\n",
            "  70 0]\n",
            " ['AMC Hornet' '18.00' 6 '199.00.00' '97.00.00' '2774.00.00' 15.05 70 0]\n",
            " ['Ford Maverick' '21.00' 6 '200.00.00' '85.00.00' '2587.00.00' 16.0 70 0]\n",
            " ['Datsun PL510' '27.00.00' 4 '97.00.00' '88.00.00' '2130.00.00' 14.05 70\n",
            "  2]\n",
            " ['Volkswagen 1131 Deluxe Sedan' '26.00.00' 4 '97.00.00' '46.00.00'\n",
            "  '1835.00.00' 20.05 70 1]\n",
            " ['Peugeot 504' '25.00.00' 4 '110.00.00' '87.00.00' '2672.00.00' 17.05 70\n",
            "  1]\n",
            " ['Audi 100 LS' '24.00.00' 4 '107.00.00' '90.00.00' '2430.00.00' 14.05 70\n",
            "  1]\n",
            " ['Saab 99e' '25.00.00' 4 '104.00.00' '95.00.00' '2375.00.00' 17.05 70 1]\n",
            " ['BMW 2002' '26.00.00' 4 '121.00.00' '113.00.00' '2234.00.00' 12.05 70 1]\n",
            " ['AMC Gremlin' '21.00' 6 '199.00.00' '90.00.00' '2648.00.00' 15.0 70 0]\n",
            " ['Ford F250' '10.00' 8 '360.00.00' '215.00.00' '4615.00.00' 14.0 70 0]\n",
            " ['Chevy C20' '10.00' 8 '307.00.00' '200.00.00' '4376.00.00' 15.0 70 0]\n",
            " ['Dodge D200' '11.00' 8 '318.00.00' '210.00.00' '4382.00.00' 13.05 70 0]\n",
            " ['Hi 1200D' '09.00' 8 '304.00.00' '193.00.00' '4732.00.00' 18.05 70 0]\n",
            " ['Datsun PL510' '27.00.00' 4 '97.00.00' '88.00.00' '2130.00.00' 14.05 71\n",
            "  2]\n",
            " ['Chevrolet Vega 2300' '28.00.00' 4 '140.00.00' '90.00.00' '2264.00.00'\n",
            "  15.05 71 0]\n",
            " ['Toyota Corolla' '25.00.00' 4 '113.00.00' '95.00.00' '2228.00.00' 14.0\n",
            "  71 2]\n",
            " ['Ford Pinto' '25.00.00' 4 '98.00.00' '96.00.00' '2046.00.00' 19.0 71 0]\n",
            " ['Volkswagen Super Beetle 117' '26.00.00' 4 '97.00.00' '48.00.00'\n",
            "  '1978.00.00' 20.0 71 1]\n",
            " ['Ford Country Squire (sw)' '13.00' 8 '400.00.00' '170.00.00'\n",
            "  '4746.00.00' 12.0 71 0]\n",
            " ['Pontiac Safari (sw)' '13.00' 8 '400.00.00' '175.00.00' '5140.00.00'\n",
            "  12.0 71 0]\n",
            " ['AMC Hornet Sportabout (sw)' '18.00' 6 '258.00.00' '110.00.00'\n",
            "  '2962.00.00' 13.05 71 0]\n",
            " ['Chevrolet Vega (sw)' '22.00' 4 '140.00.00' '72.00.00' '2408.00.00'\n",
            "  19.0 71 0]\n",
            " ['Pontiac Firebird' '19.00' 6 '250.00.00' '100.00.00' '3282.00.00' 15.0\n",
            "  71 0]\n",
            " ['Ford Mustang' '18.00' 6 '250.00.00' '88.00.00' '3139.00.00' 14.05 71 0]\n",
            " ['Mercury Capri 2000' '23.00' 4 '122.00.00' '86.00.00' '2220.00.00' 14.0\n",
            "  71 0]\n",
            " ['Opel 1900' '28.00.00' 4 '116.00.00' '90.00.00' '2123.00.00' 14.0 71 1]\n",
            " ['Peugeot 304' '30.00.00' 4 '79.00.00' '70.00.00' '2074.00.00' 19.05 71\n",
            "  1]\n",
            " ['Fiat 124B' '30.00.00' 4 '88.00.00' '76.00.00' '2065.00.00' 14.05 71 1]\n",
            " ['Toyota Corolla 1200' '31.00.00' 4 '71.00.00' '65.00.00' '1773.00.00'\n",
            "  19.0 71 2]\n",
            " ['Datsun 1200' '35.00.00' 4 '72.00.00' '69.00.00' '1613.00.00' 18.0 71 2]\n",
            " ['Volkswagen Model 111' '27.00.00' 4 '97.00.00' '60.00.00' '1834.00.00'\n",
            "  19.0 71 1]\n",
            " ['Plymouth Cricket' '26.00.00' 4 '91.00.00' '70.00.00' '1955.00.00'\n",
            "  20.05 71 0]\n",
            " ['Toyota Corolla Hardtop' '24.00.00' 4 '113.00.00' '95.00.00'\n",
            "  '2278.00.00' 15.05 72 2]\n",
            " ['Dodge Colt Hardtop' '25.00.00' 4 '97.50.00' '80.00.00' '2126.00.00'\n",
            "  17.0 72 0]\n",
            " ['Volkswagen Type 3' '23.00' 4 '97.00.00' '54.00.00' '2254.00.00' 23.05\n",
            "  72 1]\n",
            " ['Chevrolet Vega' '20.00' 4 '140.00.00' '90.00.00' '2408.00.00' 19.05 72\n",
            "  0]\n",
            " ['Ford Pinto Runabout' '21.00' 4 '122.00.00' '86.00.00' '2226.00.00'\n",
            "  16.05 72 0]\n",
            " ['Chevrolet Impala' '13.00' 8 '350.00.00' '165.00.00' '4274.00.00' 12.0\n",
            "  72 0]\n",
            " ['Pontiac Catalina' '14.00' 8 '400.00.00' '175.00.00' '4385.00.00' 12.0\n",
            "  72 0]\n",
            " ['Plymouth Fury III' '15.00' 8 '318.00.00' '150.00.00' '4135.00.00'\n",
            "  13.05 72 0]\n",
            " ['Ford Galaxie 500' '14.00' 8 '351.00.00' '153.00.00' '4129.00.00' 13.0\n",
            "  72 0]\n",
            " ['AMC Ambassador SST' '17.00' 8 '304.00.00' '150.00.00' '3672.00.00'\n",
            "  11.05 72 0]\n",
            " ['Mercury Marquis' '11.00' 8 '429.00.00' '208.00.00' '4633.00.00' 11.0\n",
            "  72 0]\n",
            " ['Buick LeSabre Custom' '13.00' 8 '350.00.00' '155.00.00' '4502.00.00'\n",
            "  13.05 72 0]\n",
            " ['Oldsmobile Delta 88 Royale' '12.00' 8 '350.00.00' '160.00.00'\n",
            "  '4456.00.00' 13.05 72 0]\n",
            " ['Chrysler Newport Royal' '13.00' 8 '400.00.00' '190.00.00' '4422.00.00'\n",
            "  12.05 72 0]\n",
            " ['Mazda RX2 Coupe' '19.00' 3 '70.00.00' '97.00.00' '2330.00.00' 13.05 72\n",
            "  2]\n",
            " ['AMC Matador (sw)' '15.00' 8 '304.00.00' '150.00.00' '3892.00.00' 12.05\n",
            "  72 0]\n",
            " ['Chevrolet Chevelle Concours (sw)' '13.00' 8 '307.00.00' '130.00.00'\n",
            "  '4098.00.00' 14.0 72 0]\n",
            " ['Ford Gran Torino (sw)' '13.00' 8 '302.00.00' '140.00.00' '4294.00.00'\n",
            "  16.0 72 0]\n",
            " ['Plymouth Satellite Custom (sw)' '14.00' 8 '318.00.00' '150.00.00'\n",
            "  '4077.00.00' 14.0 72 0]\n",
            " ['Volvo 145e (sw)' '18.00' 4 '121.00.00' '112.00.00' '2933.00.00' 14.05\n",
            "  72 1]\n",
            " ['Volkswagen 411 (sw)' '22.00' 4 '121.00.00' '76.00.00' '2511.00.00'\n",
            "  18.0 72 1]\n",
            " ['Peugeot 504 (sw)' '21.00' 4 '120.00.00' '87.00.00' '2979.00.00' 19.05\n",
            "  72 1]\n",
            " ['Renault 12 (sw)' '26.00.00' 4 '96.00.00' '69.00.00' '2189.00.00' 18.0\n",
            "  72 1]\n",
            " ['Ford Pinto (sw)' '22.00' 4 '122.00.00' '86.00.00' '2395.00.00' 16.0 72\n",
            "  0]\n",
            " ['Datsun 510 (sw)' '28.00.00' 4 '97.00.00' '92.00.00' '2288.00.00' 17.0\n",
            "  72 2]\n",
            " ['Toyota Corolla Mark II (sw)' '23.00' 4 '120.00.00' '97.00.00'\n",
            "  '2506.00.00' 14.05 72 2]]\n"
          ],
          "name": "stdout"
        },
        {
          "output_type": "execute_result",
          "data": {
            "text/plain": [
              "80"
            ]
          },
          "metadata": {
            "tags": []
          },
          "execution_count": 233
        }
      ]
    },
    {
      "cell_type": "code",
      "metadata": {
        "id": "gUUIz6arrR8V",
        "colab": {
          "base_uri": "https://localhost:8080/"
        },
        "outputId": "870a9451-5a0c-4e65-9490-e16204eedac5"
      },
      "source": [
        "print(dataTesting)\n",
        "len(dataTesting)"
      ],
      "execution_count": 234,
      "outputs": [
        {
          "output_type": "stream",
          "text": [
            "[['AMC Gremlin' '19.00' 6 '232.00.00' '100.00.00' '2634.00.00' 13.0 71 0]\n",
            " ['Plymouth Satellite Custom' '16.00' 6 '225.00.00' '105.00.00'\n",
            "  '3439.00.00' 15.05 71 0]\n",
            " ['Chevrolet Chevelle Malibu' '17.00' 6 '250.00.00' '100.00.00'\n",
            "  '3329.00.00' 15.05 71 0]\n",
            " ['Ford Torino 500' '19.00' 6 '250.00.00' '88.00.00' '3302.00.00' 15.05\n",
            "  71 0]\n",
            " ['AMC Matador' '18.00' 6 '232.00.00' '100.00.00' '3288.00.00' 15.05 71 0]\n",
            " ['Chevrolet Impala' '14.00' 8 '350.00.00' '165.00.00' '4209.00.00' 12.0\n",
            "  71 0]\n",
            " ['Pontiac Catalina Brougham' '14.00' 8 '400.00.00' '175.00.00'\n",
            "  '4464.00.00' 11.05 71 0]\n",
            " ['Ford Galaxie 500' '14.00' 8 '351.00.00' '153.00.00' '4154.00.00' 13.05\n",
            "  71 0]\n",
            " ['Plymouth Fury iii' '14.00' 8 '318.00.00' '150.00.00' '4096.00.00' 13.0\n",
            "  71 0]\n",
            " ['Dodge Monaco (sw)' '12.00' 8 '383.00.00' '180.00.00' '4955.00.00'\n",
            "  11.05 71 0]\n",
            " ['Dodge Colt (sw)' '28.00.00' 4 '98.00.00' '80.00.00' '2164.00.00' 15.0\n",
            "  72 0]\n",
            " ['Toyota Corolla 1600 (sw)' '27.00.00' 4 '97.00.00' '88.00.00'\n",
            "  '2100.00.00' 16.05 72 2]\n",
            " ['Buick Century 350' '13.00' 8 '350.00.00' '175.00.00' '4100.00.00' 13.0\n",
            "  73 0]\n",
            " ['AMC Matador' '14.00' 8 '304.00.00' '150.00.00' '3672.00.00' 11.05 73 0]\n",
            " ['Chevrolet Malibu' '13.00' 8 '350.00.00' '145.00.00' '3988.00.00' 13.0\n",
            "  73 0]\n",
            " ['Ford Gran Torino' '14.00' 8 '302.00.00' '137.00.00' '4042.00.00' 14.05\n",
            "  73 0]\n",
            " ['Dodge Coronet Custom' '15.00' 8 '318.00.00' '150.00.00' '3777.00.00'\n",
            "  12.05 73 0]\n",
            " ['Mercury Marquis Brougham' '12.00' 8 '429.00.00' '198.00.00'\n",
            "  '4952.00.00' 11.05 73 0]\n",
            " ['Chevrolet Caprice Classic' '13.00' 8 '400.00.00' '150.00.00'\n",
            "  '4464.00.00' 12.0 73 0]\n",
            " ['Ford LTD' '13.00' 8 '351.00.00' '158.00.00' '4363.00.00' 13.0 73 0]]\n"
          ],
          "name": "stdout"
        },
        {
          "output_type": "execute_result",
          "data": {
            "text/plain": [
              "20"
            ]
          },
          "metadata": {
            "tags": []
          },
          "execution_count": 234
        }
      ]
    },
    {
      "cell_type": "code",
      "metadata": {
        "id": "c4S630QJrz0y",
        "colab": {
          "base_uri": "https://localhost:8080/"
        },
        "outputId": "969b0202-6dfc-4953-a6ff-f7efa08becfe"
      },
      "source": [
        "#memecah dataset ke input label\n",
        "inputTraining = dataTraining[:, 0:4]\n",
        "inputTesting = dataTesting[:, 0:4]\n",
        "labelTraining = dataTraining[:, 4]\n",
        "labelTesting = dataTesting[:, 4]\n",
        "print(labelTraining)\n",
        "len(labelTraining)"
      ],
      "execution_count": 235,
      "outputs": [
        {
          "output_type": "stream",
          "text": [
            "['130.00.00' '165.00.00' '150.00.00' '150.00.00' '140.00.00' '198.00.00'\n",
            " '220.00.00' '215.00.00' '225.00.00' '190.00.00' '115.00.00' '165.00.00'\n",
            " '153.00.00' '175.00.00' '175.00.00' '170.00.00' '160.00.00' '140.00.00'\n",
            " '150.00.00' '225.00.00' '95.00.00' '95.00.00' '97.00.00' '85.00.00'\n",
            " '88.00.00' '46.00.00' '87.00.00' '90.00.00' '95.00.00' '113.00.00'\n",
            " '90.00.00' '215.00.00' '200.00.00' '210.00.00' '193.00.00' '88.00.00'\n",
            " '90.00.00' '95.00.00' '96.00.00' '48.00.00' '170.00.00' '175.00.00'\n",
            " '110.00.00' '72.00.00' '100.00.00' '88.00.00' '86.00.00' '90.00.00'\n",
            " '70.00.00' '76.00.00' '65.00.00' '69.00.00' '60.00.00' '70.00.00'\n",
            " '95.00.00' '80.00.00' '54.00.00' '90.00.00' '86.00.00' '165.00.00'\n",
            " '175.00.00' '150.00.00' '153.00.00' '150.00.00' '208.00.00' '155.00.00'\n",
            " '160.00.00' '190.00.00' '97.00.00' '150.00.00' '130.00.00' '140.00.00'\n",
            " '150.00.00' '112.00.00' '76.00.00' '87.00.00' '69.00.00' '86.00.00'\n",
            " '92.00.00' '97.00.00']\n"
          ],
          "name": "stdout"
        },
        {
          "output_type": "execute_result",
          "data": {
            "text/plain": [
              "80"
            ]
          },
          "metadata": {
            "tags": []
          },
          "execution_count": 235
        }
      ]
    },
    {
      "cell_type": "code",
      "metadata": {
        "id": "7sZmK4EIslRK"
      },
      "source": [
        "#mendefinisikan decision tree classifier\n",
        "model = tree.DecisionTreeClassifier()"
      ],
      "execution_count": 236,
      "outputs": []
    },
    {
      "cell_type": "code",
      "metadata": {
        "id": "dIvlKwCQsutL",
        "colab": {
          "base_uri": "https://localhost:8080/",
          "height": 323
        },
        "outputId": "bdccb158-5065-492f-8237-eb6edaeee4b7"
      },
      "source": [
        "#mentraining model\n",
        "model = model.fit(inputTraining, labelTraining)"
      ],
      "execution_count": 237,
      "outputs": [
        {
          "output_type": "error",
          "ename": "ValueError",
          "evalue": "ignored",
          "traceback": [
            "\u001b[0;31m---------------------------------------------------------------------------\u001b[0m",
            "\u001b[0;31mValueError\u001b[0m                                Traceback (most recent call last)",
            "\u001b[0;32m<ipython-input-237-48987d8c7720>\u001b[0m in \u001b[0;36m<module>\u001b[0;34m()\u001b[0m\n\u001b[1;32m      1\u001b[0m \u001b[0;31m#mentraining model\u001b[0m\u001b[0;34m\u001b[0m\u001b[0;34m\u001b[0m\u001b[0;34m\u001b[0m\u001b[0m\n\u001b[0;32m----> 2\u001b[0;31m \u001b[0mmodel\u001b[0m \u001b[0;34m=\u001b[0m \u001b[0mmodel\u001b[0m\u001b[0;34m.\u001b[0m\u001b[0mfit\u001b[0m\u001b[0;34m(\u001b[0m\u001b[0minputTraining\u001b[0m\u001b[0;34m,\u001b[0m \u001b[0mlabelTraining\u001b[0m\u001b[0;34m)\u001b[0m\u001b[0;34m\u001b[0m\u001b[0;34m\u001b[0m\u001b[0m\n\u001b[0m",
            "\u001b[0;32m/usr/local/lib/python3.7/dist-packages/sklearn/tree/_classes.py\u001b[0m in \u001b[0;36mfit\u001b[0;34m(self, X, y, sample_weight, check_input, X_idx_sorted)\u001b[0m\n\u001b[1;32m    875\u001b[0m             \u001b[0msample_weight\u001b[0m\u001b[0;34m=\u001b[0m\u001b[0msample_weight\u001b[0m\u001b[0;34m,\u001b[0m\u001b[0;34m\u001b[0m\u001b[0;34m\u001b[0m\u001b[0m\n\u001b[1;32m    876\u001b[0m             \u001b[0mcheck_input\u001b[0m\u001b[0;34m=\u001b[0m\u001b[0mcheck_input\u001b[0m\u001b[0;34m,\u001b[0m\u001b[0;34m\u001b[0m\u001b[0;34m\u001b[0m\u001b[0m\n\u001b[0;32m--> 877\u001b[0;31m             X_idx_sorted=X_idx_sorted)\n\u001b[0m\u001b[1;32m    878\u001b[0m         \u001b[0;32mreturn\u001b[0m \u001b[0mself\u001b[0m\u001b[0;34m\u001b[0m\u001b[0;34m\u001b[0m\u001b[0m\n\u001b[1;32m    879\u001b[0m \u001b[0;34m\u001b[0m\u001b[0m\n",
            "\u001b[0;32m/usr/local/lib/python3.7/dist-packages/sklearn/tree/_classes.py\u001b[0m in \u001b[0;36mfit\u001b[0;34m(self, X, y, sample_weight, check_input, X_idx_sorted)\u001b[0m\n\u001b[1;32m    147\u001b[0m \u001b[0;34m\u001b[0m\u001b[0m\n\u001b[1;32m    148\u001b[0m         \u001b[0;32mif\u001b[0m \u001b[0mcheck_input\u001b[0m\u001b[0;34m:\u001b[0m\u001b[0;34m\u001b[0m\u001b[0;34m\u001b[0m\u001b[0m\n\u001b[0;32m--> 149\u001b[0;31m             \u001b[0mX\u001b[0m \u001b[0;34m=\u001b[0m \u001b[0mcheck_array\u001b[0m\u001b[0;34m(\u001b[0m\u001b[0mX\u001b[0m\u001b[0;34m,\u001b[0m \u001b[0mdtype\u001b[0m\u001b[0;34m=\u001b[0m\u001b[0mDTYPE\u001b[0m\u001b[0;34m,\u001b[0m \u001b[0maccept_sparse\u001b[0m\u001b[0;34m=\u001b[0m\u001b[0;34m\"csc\"\u001b[0m\u001b[0;34m)\u001b[0m\u001b[0;34m\u001b[0m\u001b[0;34m\u001b[0m\u001b[0m\n\u001b[0m\u001b[1;32m    150\u001b[0m             \u001b[0my\u001b[0m \u001b[0;34m=\u001b[0m \u001b[0mcheck_array\u001b[0m\u001b[0;34m(\u001b[0m\u001b[0my\u001b[0m\u001b[0;34m,\u001b[0m \u001b[0mensure_2d\u001b[0m\u001b[0;34m=\u001b[0m\u001b[0;32mFalse\u001b[0m\u001b[0;34m,\u001b[0m \u001b[0mdtype\u001b[0m\u001b[0;34m=\u001b[0m\u001b[0;32mNone\u001b[0m\u001b[0;34m)\u001b[0m\u001b[0;34m\u001b[0m\u001b[0;34m\u001b[0m\u001b[0m\n\u001b[1;32m    151\u001b[0m             \u001b[0;32mif\u001b[0m \u001b[0missparse\u001b[0m\u001b[0;34m(\u001b[0m\u001b[0mX\u001b[0m\u001b[0;34m)\u001b[0m\u001b[0;34m:\u001b[0m\u001b[0;34m\u001b[0m\u001b[0;34m\u001b[0m\u001b[0m\n",
            "\u001b[0;32m/usr/local/lib/python3.7/dist-packages/sklearn/utils/validation.py\u001b[0m in \u001b[0;36mcheck_array\u001b[0;34m(array, accept_sparse, accept_large_sparse, dtype, order, copy, force_all_finite, ensure_2d, allow_nd, ensure_min_samples, ensure_min_features, warn_on_dtype, estimator)\u001b[0m\n\u001b[1;32m    529\u001b[0m                     \u001b[0marray\u001b[0m \u001b[0;34m=\u001b[0m \u001b[0marray\u001b[0m\u001b[0;34m.\u001b[0m\u001b[0mastype\u001b[0m\u001b[0;34m(\u001b[0m\u001b[0mdtype\u001b[0m\u001b[0;34m,\u001b[0m \u001b[0mcasting\u001b[0m\u001b[0;34m=\u001b[0m\u001b[0;34m\"unsafe\"\u001b[0m\u001b[0;34m,\u001b[0m \u001b[0mcopy\u001b[0m\u001b[0;34m=\u001b[0m\u001b[0;32mFalse\u001b[0m\u001b[0;34m)\u001b[0m\u001b[0;34m\u001b[0m\u001b[0;34m\u001b[0m\u001b[0m\n\u001b[1;32m    530\u001b[0m                 \u001b[0;32melse\u001b[0m\u001b[0;34m:\u001b[0m\u001b[0;34m\u001b[0m\u001b[0;34m\u001b[0m\u001b[0m\n\u001b[0;32m--> 531\u001b[0;31m                     \u001b[0marray\u001b[0m \u001b[0;34m=\u001b[0m \u001b[0mnp\u001b[0m\u001b[0;34m.\u001b[0m\u001b[0masarray\u001b[0m\u001b[0;34m(\u001b[0m\u001b[0marray\u001b[0m\u001b[0;34m,\u001b[0m \u001b[0morder\u001b[0m\u001b[0;34m=\u001b[0m\u001b[0morder\u001b[0m\u001b[0;34m,\u001b[0m \u001b[0mdtype\u001b[0m\u001b[0;34m=\u001b[0m\u001b[0mdtype\u001b[0m\u001b[0;34m)\u001b[0m\u001b[0;34m\u001b[0m\u001b[0;34m\u001b[0m\u001b[0m\n\u001b[0m\u001b[1;32m    532\u001b[0m             \u001b[0;32mexcept\u001b[0m \u001b[0mComplexWarning\u001b[0m\u001b[0;34m:\u001b[0m\u001b[0;34m\u001b[0m\u001b[0;34m\u001b[0m\u001b[0m\n\u001b[1;32m    533\u001b[0m                 raise ValueError(\"Complex data not supported\\n\"\n",
            "\u001b[0;32m/usr/local/lib/python3.7/dist-packages/numpy/core/_asarray.py\u001b[0m in \u001b[0;36masarray\u001b[0;34m(a, dtype, order)\u001b[0m\n\u001b[1;32m     81\u001b[0m \u001b[0;34m\u001b[0m\u001b[0m\n\u001b[1;32m     82\u001b[0m     \"\"\"\n\u001b[0;32m---> 83\u001b[0;31m     \u001b[0;32mreturn\u001b[0m \u001b[0marray\u001b[0m\u001b[0;34m(\u001b[0m\u001b[0ma\u001b[0m\u001b[0;34m,\u001b[0m \u001b[0mdtype\u001b[0m\u001b[0;34m,\u001b[0m \u001b[0mcopy\u001b[0m\u001b[0;34m=\u001b[0m\u001b[0;32mFalse\u001b[0m\u001b[0;34m,\u001b[0m \u001b[0morder\u001b[0m\u001b[0;34m=\u001b[0m\u001b[0morder\u001b[0m\u001b[0;34m)\u001b[0m\u001b[0;34m\u001b[0m\u001b[0;34m\u001b[0m\u001b[0m\n\u001b[0m\u001b[1;32m     84\u001b[0m \u001b[0;34m\u001b[0m\u001b[0m\n\u001b[1;32m     85\u001b[0m \u001b[0;34m\u001b[0m\u001b[0m\n",
            "\u001b[0;31mValueError\u001b[0m: could not convert string to float: 'Chevrolet Chevelle Malibu'"
          ]
        }
      ]
    },
    {
      "cell_type": "code",
      "metadata": {
        "id": "7MNEndwIs-Zp"
      },
      "source": [
        "#memprediksi input data testing\n",
        "hasilPrediksi = model.predict(inputTesting)\n",
        "print(\"Label Sebenarnya : \", labelTesting)\n",
        "print(\"Hasil Prediksi : \", hasilPrediksi)"
      ],
      "execution_count": null,
      "outputs": []
    },
    {
      "cell_type": "code",
      "metadata": {
        "id": "AGTctRDltWM1"
      },
      "source": [
        "#menghitung akurasi\n",
        "prediksiBenar = (hasilPrediksi == labelTesting).sum()\n",
        "prediksiSalah = (hasilPrediksi != labelTesting).sum()\n",
        "print(\"Prediksi Benar :\", prediksiBenar, \"data\")\n",
        "print(\"Prediksi Salah :\", prediksiSalah, \"data\")\n",
        "print(\"Akurasi :\", prediksiBenar/(prediksiBenar+prediksiSalah) * 100, \"%\")"
      ],
      "execution_count": null,
      "outputs": []
    }
  ]
}